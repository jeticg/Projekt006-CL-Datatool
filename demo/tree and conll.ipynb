{
 "cells": [
  {
   "cell_type": "markdown",
   "metadata": {},
   "source": [
    "# Natlang Dataset Toolkit\n",
    "\n",
    "## 1. Import the toolkit"
   ]
  },
  {
   "cell_type": "code",
   "execution_count": 9,
   "metadata": {
    "scrolled": true
   },
   "outputs": [
    {
     "name": "stderr",
     "output_type": "stream",
     "text": [
      "|>>>>>>>>>>>>>>>>>>>>>>>>>>>>>>>>>| Time: 0:00:00; Total: 6 sents (in: 0:00:00)\n"
     ]
    },
    {
     "data": {
      "text/plain": [
       "[['convert',\n",
       "  'a',\n",
       "  'datetime',\n",
       "  'string',\n",
       "  'back',\n",
       "  'to',\n",
       "  'a',\n",
       "  'datetime',\n",
       "  'object',\n",
       "  'of',\n",
       "  'format',\n",
       "  \"`'%y-%m-%d\",\n",
       "  \"%h:%m:%s.%f'`\"],\n",
       " ['find',\n",
       "  'maximum',\n",
       "  'with',\n",
       "  '`lookahead`',\n",
       "  '=',\n",
       "  '`4`',\n",
       "  'in',\n",
       "  'a',\n",
       "  'list',\n",
       "  '`arr`'],\n",
       " ['in',\n",
       "  'django,',\n",
       "  'filter',\n",
       "  '`task.objects`',\n",
       "  'based',\n",
       "  'on',\n",
       "  'all',\n",
       "  'entities',\n",
       "  'in',\n",
       "  \"`['a',\",\n",
       "  \"'p',\",\n",
       "  \"'f']`\"],\n",
       " ['join',\n",
       "  'multiple',\n",
       "  'dataframes',\n",
       "  '`d1`,',\n",
       "  '`d2`,',\n",
       "  'and',\n",
       "  '`d3`',\n",
       "  'on',\n",
       "  'column',\n",
       "  \"`'name'`\"],\n",
       " ['using',\n",
       "  \"python's\",\n",
       "  'datetime',\n",
       "  'module,',\n",
       "  'get',\n",
       "  'the',\n",
       "  'year',\n",
       "  'that',\n",
       "  'utc-11',\n",
       "  'is',\n",
       "  'currently',\n",
       "  'in'],\n",
       " ['get',\n",
       "  'the',\n",
       "  'ascii',\n",
       "  'value',\n",
       "  'of',\n",
       "  'a',\n",
       "  'character',\n",
       "  \"`u'あ'`\",\n",
       "  'as',\n",
       "  'an',\n",
       "  'int']]"
      ]
     },
     "execution_count": 9,
     "metadata": {},
     "output_type": "execute_result"
    }
   ],
   "source": [
    "import natlang as nl\n",
    "\n",
    "# Load txt\n",
    "dataset = nl.load(\"../natlang/test/sampleConalaTxt.txt\")\n",
    "dataset"
   ]
  },
  {
   "cell_type": "markdown",
   "metadata": {},
   "source": [
    "## 2. Constituency Tree Loader\n",
    "\n",
    "The constituency tree loader is called 'tree', or it can also use the default 'txtOrTree'.\n",
    "To access these different formats, use the format option in `nl.loader`.\n",
    "\n",
    "This is the same as the 'astTree'."
   ]
  },
  {
   "cell_type": "code",
   "execution_count": 10,
   "metadata": {},
   "outputs": [
    {
     "name": "stderr",
     "output_type": "stream",
     "text": [
      "|>>>>>>>>>>>>>>>>>>>>>>>>>>>>>>>>>| Time: 0:00:00; Total: 3 sents (in: 0:00:00)\n",
      "|>>>>>>>>>>>>>>>>>>>>>>>>>>>>>>>>>| Time: 0:00:00; Total: 3 sents (in: 0:00:00)\n",
      "|>>>>>>>>>>>>>>>>>>>>>>>>>>>>>>>>>| Time: 0:00:00; Total: 3 sents (in: 0:00:00)\r"
     ]
    },
    {
     "name": "stdout",
     "output_type": "stream",
     "text": [
      "3\n",
      "3\n",
      "3\n"
     ]
    },
    {
     "name": "stderr",
     "output_type": "stream",
     "text": [
      "\n"
     ]
    }
   ],
   "source": [
    "# Default loader loads txt or trees automatically\n",
    "dataset = nl.load(\"../natlang/test/sampleTree.txt\")\n",
    "print(len(dataset))\n",
    "\n",
    "# You can also specify the format manually\n",
    "dataset = nl.load(\"../natlang/test/sampleTree.txt\", format='tree')\n",
    "print(len(dataset))\n",
    "\n",
    "# You can also specify the format manually\n",
    "dataset = nl.load(\"../natlang/test/sampleTree.txt\", format=nl.format.tree)\n",
    "print(len(dataset))"
   ]
  },
  {
   "cell_type": "code",
   "execution_count": 11,
   "metadata": {},
   "outputs": [
    {
     "name": "stdout",
     "output_type": "stream",
     "text": [
      "(1, 'ROOT'\n",
      "  (2, 'S'\n",
      "    (3, 'NP', 'Andrei')\n",
      "    (4, 'VP'\n",
      "      (5, 'VP', 'likes')\n",
      "      (6, 'NP', 'cheese')\n",
      "    )\n",
      "  )\n",
      ")\n"
     ]
    }
   ],
   "source": [
    "dataset[0].onScreen()"
   ]
  },
  {
   "cell_type": "markdown",
   "metadata": {},
   "source": [
    "`tree.columnFormat() = parColumn, sibColumn, valColumn, hasChild, hasSibl`\n",
    "This method gives you some basic information for the tree in columns.\n",
    "`parColumn` gives you an array indicating the node's parent node index. Index 0 is reserved for NULL node, and Index 1 is reserved for ROOT node.\n",
    "`sibColumn` gives 'next sibling' index. For nodes with multiple siblings, the first sibling will be the "
   ]
  },
  {
   "cell_type": "code",
   "execution_count": 12,
   "metadata": {},
   "outputs": [
    {
     "data": {
      "text/plain": [
       "([0, 0, 1, 2, 2, 4, 4],\n",
       " [0, 0, 0, 0, 3, 0, 5],\n",
       " [('NULL',),\n",
       "  ('ROOT',),\n",
       "  ('S',),\n",
       "  ('NP', 'Andrei'),\n",
       "  ('VP',),\n",
       "  ('VP', 'likes'),\n",
       "  ('NP', 'cheese')],\n",
       " [0, 1, 1, 0, 1, 0, 0],\n",
       " [0, 0, 0, 1, 0, 1, 0])"
      ]
     },
     "execution_count": 12,
     "metadata": {},
     "output_type": "execute_result"
    }
   ],
   "source": [
    "dataset[0].columnFormat()"
   ]
  },
  {
   "cell_type": "code",
   "execution_count": 13,
   "metadata": {},
   "outputs": [
    {
     "name": "stdout",
     "output_type": "stream",
     "text": [
      "(1, 'ROOT'\n",
      "  (2, 'S'\n",
      "    (3, 'NP', 'Andrei')\n",
      "    (4, 'VP'\n",
      "      (5, 'VP', 'likes')\n",
      "      (6, 'NP', 'cheese')\n",
      "    )\n",
      "  )\n",
      ")\n"
     ]
    }
   ],
   "source": [
    "dataset[0].onScreen()"
   ]
  },
  {
   "cell_type": "code",
   "execution_count": 14,
   "metadata": {},
   "outputs": [
    {
     "data": {
      "text/plain": [
       "('ROOT',)"
      ]
     },
     "execution_count": 14,
     "metadata": {},
     "output_type": "execute_result"
    }
   ],
   "source": [
    "# A non-terminal node will have only one label\n",
    "dataset[0].value"
   ]
  },
  {
   "cell_type": "code",
   "execution_count": 18,
   "metadata": {},
   "outputs": [
    {
     "name": "stdout",
     "output_type": "stream",
     "text": [
      "<natlang.format.tree.Node object at 0x109628ef0> None\n",
      "('S',)\n",
      "(2, 'S'\n",
      "  (3, 'NP', 'Andrei')\n",
      "  (4, 'VP'\n",
      "    (5, 'VP', 'likes')\n",
      "    (6, 'NP', 'cheese')\n",
      "  )\n",
      ")\n"
     ]
    }
   ],
   "source": [
    "# Any node will have sibling or children, pointing to corresponding nodes\n",
    "print(dataset[0].child, dataset[0].sibling)\n",
    "print(dataset[0].child.value)\n",
    "dataset[0].child.onScreen()"
   ]
  },
  {
   "cell_type": "code",
   "execution_count": 19,
   "metadata": {},
   "outputs": [
    {
     "name": "stdout",
     "output_type": "stream",
     "text": [
      "1 2\n"
     ]
    }
   ],
   "source": [
    "# Every node has a unique ID in this sample\n",
    "# Root node always has ID 1\n",
    "print(dataset[0].id, dataset[0].child.id)"
   ]
  },
  {
   "cell_type": "code",
   "execution_count": 22,
   "metadata": {},
   "outputs": [
    {
     "name": "stdout",
     "output_type": "stream",
     "text": [
      "(1, 'ROOT'\n",
      "  (2, 'S'\n",
      "    (3, 'NP', 'Andrei')\n",
      "    (4, 'VP'\n",
      "      (5, 'VP', 'likes')\n",
      "      (6, 'NP', 'cheese')\n",
      "    )\n",
      "  )\n",
      ")\n",
      "(5, 'ROOT'\n",
      "  (6, 'S'\n",
      "    (7, 'NP', 'Andrei')\n",
      "    (8, 'VP'\n",
      "      (9, 'VP', 'likes')\n",
      "      (10, 'NP', 'cheese')\n",
      "    )\n",
      "  )\n",
      ")\n"
     ]
    }
   ],
   "source": [
    "# ID calculation is automatic\n",
    "# When you call method `calcId`, the current Node will be reset to the given input, and traverse the tree to generate the rest\n",
    "dataset[0].calcId(1)\n",
    "dataset[0].onScreen()\n",
    "dataset[0].calcId(5)\n",
    "dataset[0].onScreen()"
   ]
  },
  {
   "cell_type": "code",
   "execution_count": null,
   "metadata": {},
   "outputs": [],
   "source": [
    "# Each element in the dataset is a unique tree node root\n",
    "dataset[0].onScreen()\n",
    "dataset[1].onScreen()"
   ]
  },
  {
   "cell_type": "code",
   "execution_count": 30,
   "metadata": {},
   "outputs": [
    {
     "name": "stdout",
     "output_type": "stream",
     "text": [
      "(0, 'Root'\n",
      "  (0, 'greater_than'\n",
      "    (0, 'block', 'blue')\n",
      "    (0, 'block', 'black')\n",
      "  )\n",
      ")\n"
     ]
    },
    {
     "data": {
      "text/plain": [
       "([0], [-1], [('block', 'black')], [1], [1])"
      ]
     },
     "execution_count": 30,
     "metadata": {},
     "output_type": "execute_result"
    }
   ],
   "source": [
    "# All you need to do to build a new tree, is to connect the child and silbings\n",
    "# Give you an example ('Root' ('greater_than' ('block' 'blue') ('block' 'black')) )\n",
    "root = nl.format.astTree.AstNode()\n",
    "root.value = ('Root',)\n",
    "greater_than = root.child = nl.format.astTree.AstNode(parent=root)\n",
    "greater_than.value = ('greater_than',)\n",
    "block_blue = greater_than.child =  nl.format.astTree.AstNode(parent=greater_than)\n",
    "block_blue.value = ('block', 'blue')\n",
    "block_black = block_blue.sibling = nl.format.astTree.AstNode(parent=greater_than)\n",
    "block_black.value = ('block', 'black')\n",
    "root.onScreen()\n",
    "root.columnFormat()"
   ]
  },
  {
   "cell_type": "code",
   "execution_count": 31,
   "metadata": {},
   "outputs": [
    {
     "name": "stdout",
     "output_type": "stream",
     "text": [
      "(1, 'Root'\n",
      "  (2, 'greater_than'\n",
      "    (3, 'block', 'blue')\n",
      "    (4, 'block', 'black')\n",
      "  )\n",
      ")\n"
     ]
    },
    {
     "data": {
      "text/plain": [
       "([0, 0, 1, 2, 2],\n",
       " [0, 0, 0, 0, 3],\n",
       " [('NULL',),\n",
       "  ('Root',),\n",
       "  ('greater_than',),\n",
       "  ('block', 'blue'),\n",
       "  ('block', 'black')],\n",
       " [0, 1, 1, 0, 0],\n",
       " [0, 0, 0, 1, 0])"
      ]
     },
     "execution_count": 31,
     "metadata": {},
     "output_type": "execute_result"
    }
   ],
   "source": [
    "# Initialise ID and Column\n",
    "root.refresh()\n",
    "root.onScreen()\n",
    "root.columnFormat()"
   ]
  },
  {
   "cell_type": "markdown",
   "metadata": {},
   "source": [
    "## 3. CoNLL Tree Loader\n",
    "\n",
    "The constituency tree loader is called 'conll'.\n",
    "To access these different formats, use the format option in `nl.loader`."
   ]
  },
  {
   "cell_type": "code",
   "execution_count": 6,
   "metadata": {},
   "outputs": [
    {
     "name": "stderr",
     "output_type": "stream",
     "text": [
      "|>>>>>>>>>>>>>>>>>>>>>>>>>>>>>>>>| Time: 0:00:00; Total: 46 lines (in: 0:00:00)\n",
      "|>>>>>>>>>>>>>>>>>>>>>>>>>>>>>>>>| Time: 0:00:00; Total: 46 lines (in: 0:00:00)\r"
     ]
    },
    {
     "name": "stdout",
     "output_type": "stream",
     "text": [
      "3\n",
      "3\n"
     ]
    },
    {
     "name": "stderr",
     "output_type": "stream",
     "text": [
      "\n"
     ]
    }
   ],
   "source": [
    "# You need to specify the format manually\n",
    "dataset = nl.load(\"../natlang/test/sampleCoNLLU.conll\", format='conll')\n",
    "print(len(dataset))\n",
    "\n",
    "# Or like this\n",
    "dataset = nl.load(\"../natlang/test/sampleCoNLLU.conll\", format=nl.format.conll)\n",
    "print(len(dataset))"
   ]
  },
  {
   "cell_type": "code",
   "execution_count": 7,
   "metadata": {},
   "outputs": [
    {
     "name": "stdout",
     "output_type": "stream",
     "text": [
      "ROOT\n",
      " │               ┌─case─From\n",
      " │               ┌─det─the\n",
      " │       ┌─nmod─AP\n",
      " └─root─comes\n",
      "         │       ┌─det─this\n",
      "         └─nsubj─story\n",
      "         └─punct─:\n"
     ]
    },
    {
     "data": {
      "text/plain": [
       "\n",
       "Representation: conll.Node(\"(0, '-ROOT-')\")\n",
       "Leafnode Label: ['From', 'the', 'AP', 'comes', 'this', 'story', ':']"
      ]
     },
     "execution_count": 7,
     "metadata": {},
     "output_type": "execute_result"
    }
   ],
   "source": [
    "dataset[0]"
   ]
  },
  {
   "cell_type": "code",
   "execution_count": null,
   "metadata": {},
   "outputs": [],
   "source": []
  }
 ],
 "metadata": {
  "kernelspec": {
   "display_name": "Python 3",
   "language": "python",
   "name": "python3"
  },
  "language_info": {
   "codemirror_mode": {
    "name": "ipython",
    "version": 3
   },
   "file_extension": ".py",
   "mimetype": "text/x-python",
   "name": "python",
   "nbconvert_exporter": "python",
   "pygments_lexer": "ipython3",
   "version": "3.6.8"
  }
 },
 "nbformat": 4,
 "nbformat_minor": 2
}
